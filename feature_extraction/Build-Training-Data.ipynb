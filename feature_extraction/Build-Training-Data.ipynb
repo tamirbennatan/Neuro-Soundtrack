{
 "cells": [
  {
   "cell_type": "code",
   "execution_count": 2,
   "metadata": {},
   "outputs": [],
   "source": [
    "import numpy as np\n",
    "from pydub import AudioSegment\n",
    "import audiosegment\n",
    "import cv2\n",
    "import pdb\n",
    "import os\n",
    "\n",
    "import pickle as pkl\n",
    "\n",
    "import matplotlib.pyplot as plt\n",
    "%matplotlib inline"
   ]
  },
  {
   "cell_type": "code",
   "execution_count": 32,
   "metadata": {
    "scrolled": true
   },
   "outputs": [
    {
     "name": "stdout",
     "output_type": "stream",
     "text": [
      "The autoreload extension is already loaded. To reload it, use:\n",
      "  %reload_ext autoreload\n"
     ]
    }
   ],
   "source": [
    "%load_ext autoreload\n",
    "%autoreload 2\n",
    "from utils import *"
   ]
  },
  {
   "cell_type": "code",
   "execution_count": 30,
   "metadata": {},
   "outputs": [
    {
     "name": "stdout",
     "output_type": "stream",
     "text": [
      "Found: 3495 Files\n"
     ]
    },
    {
     "data": {
      "text/plain": [
       "<generator object read_songs.<locals>.<genexpr> at 0x11c05ff68>"
      ]
     },
     "execution_count": 30,
     "metadata": {},
     "output_type": "execute_result"
    }
   ],
   "source": [
    "# directory where all my music lives\n",
    "MUSIC_DIR = '/Users/timibennatan/Music/iTunes/iTunes Media/Music/**'\n",
    "SNIPPETS_PER_SONG = 30 # extract 30 one second snippet from each song\n",
    "\n",
    "# # create a generator of audiosegments for each song\n",
    "songs = read_songs(MUSIC_DIR)\n",
    "songs"
   ]
  },
  {
   "cell_type": "code",
   "execution_count": 28,
   "metadata": {},
   "outputs": [],
   "source": [
    "def save_npy(arr,path):\n",
    "    with(open(path, 'wb')) as handle:\n",
    "        np.save(handle,arr)"
   ]
  },
  {
   "cell_type": "code",
   "execution_count": 20,
   "metadata": {},
   "outputs": [
    {
     "name": "stderr",
     "output_type": "stream",
     "text": [
      "/Users/timibennatan/Desktop/Neuro-Soundtrack/feature_extraction/utils.py:96: UserWarning: Update your `Model` call to the Keras 2 API: `Model(inputs=Tensor(\"in..., outputs=Tensor(\"ma...)`\n",
      "  model = Model(inputs = input_img, output = pool)\n"
     ]
    }
   ],
   "source": [
    "pooler = get_pooler()"
   ]
  },
  {
   "cell_type": "code",
   "execution_count": null,
   "metadata": {},
   "outputs": [
    {
     "name": "stdout",
     "output_type": "stream",
     "text": [
      "Found: 3495 Files\n",
      "Incorrect signal length on song 1. Skipping\n",
      "Incorrect signal length on song 5. Skipping\n",
      "Finished: 10\n",
      "Incorrect signal length on song 19. Skipping\n",
      "Incorrect signal length on song 20. Skipping\n",
      "Finished: 20\n",
      "Incorrect signal length on song 21. Skipping\n",
      "Incorrect signal length on song 23. Skipping\n",
      "Incorrect signal length on song 24. Skipping\n",
      "Incorrect signal length on song 30. Skipping\n",
      "Finished: 30\n",
      "Incorrect signal length on song 32. Skipping\n",
      "Incorrect signal length on song 33. Skipping\n"
     ]
    }
   ],
   "source": [
    "# create a generator of audiosegments for each song\n",
    "songs = read_songs(MUSIC_DIR)\n",
    "\n",
    "def save_data(printevery = 10, signal_shape = (88200,), spect_shape = (662, 659)):\n",
    "    song_id = 0\n",
    "    ids = {}\n",
    "    for song in songs:\n",
    "        song_id += 1\n",
    "        snippet_idx = 0\n",
    "        # split the song into seconds intervals\n",
    "        song_split = song.dice(1)\n",
    "        # randomly sample SNIPPETS_PER_SONG snippets per song\n",
    "        np.random.seed(song_id + snippet_idx)\n",
    "        choices = np.random.choice(len(song_split),min(len(song_split),SNIPPETS_PER_SONG), replace = False)\n",
    "        # iterate through the snippets\n",
    "        for choice in choices:\n",
    "            snippet = song_split[choice]\n",
    "            snippet_idx += 1\n",
    "            # create an identifier for the song/snippet combination\n",
    "            snippet_name = \"song_%d_snippet_%d\"%(song_id,snippet_idx)\n",
    "            # extract signal\n",
    "            signal = snippet.to_numpy_array()\n",
    "            if signal.shape != signal_shape:\n",
    "                print (\"Incorrect signal length on song %d. Skipping\"%song_id)\n",
    "                break\n",
    "            # extract a spectrogram for the snippet\n",
    "            _, _, spect = get_spect(snippet)\n",
    "            if spect_shape != spect_shape:\n",
    "                print (\"Incorrect spectrogram shape on song %d. Skipping\"%song_id)\n",
    "                break\n",
    "            # normalize to range (0,1)\n",
    "            spect = normalize_spectogram(spect)\n",
    "            if spect is None:\n",
    "                continue\n",
    "            # blur the spectrogram\n",
    "            spect_blur = gaussian_blur(spect,window = (3,3))\n",
    "            # edge detect\n",
    "            spect_edges = edge_detect(spect,lowerbound = 0, upperbound=200,scale = 255)\n",
    "            # perform max pooling to reduce dimensionality\n",
    "            spect_blur = pooler(spect_blur)\n",
    "            spect_edges = pooler(spect_edges)\n",
    "            # create names for blurs, edges and signlas\n",
    "            blur_name = snippet_name + \"blur.npy\"\n",
    "            signal_name = snippet_name + \"signal.npy\"\n",
    "            edges_name = snippet_name + \"edges.npy\"\n",
    "            #add_names and save files\n",
    "            ids[snippet_name] = {\"blur\":blur_name, \"edges\":edges_name, \"signal\":signal_name}\n",
    "            save_npy(spect_blur,\"../data/blurs/\"+blur_name)\n",
    "            save_npy(spect_edges,\"../data/edges/\"+edges_name)\n",
    "            save_npy(signal,\"../data/signals/\"+signal_name)\n",
    "        # print ever `print_every` songs\n",
    "        if song_id % printevery ==0:\n",
    "            print(\"Finished: %d\" % song_id)\n",
    "    # save the ids list\n",
    "    with open(\"../data/ids_list.pkl\",\"wb\") as handle:\n",
    "        pkl.dump(ids,handle)\n",
    "    handle.close()\n",
    "\n",
    "%time save_data(printevery=10)"
   ]
  },
  {
   "cell_type": "code",
   "execution_count": 35,
   "metadata": {
    "scrolled": true
   },
   "outputs": [
    {
     "data": {
      "text/plain": [
       "array([1])"
      ]
     },
     "execution_count": 35,
     "metadata": {},
     "output_type": "execute_result"
    }
   ],
   "source": [
    "np.random.choice(2,1,replace = False)"
   ]
  },
  {
   "cell_type": "code",
   "execution_count": 36,
   "metadata": {},
   "outputs": [
    {
     "data": {
      "text/plain": [
       "1"
      ]
     },
     "execution_count": 36,
     "metadata": {},
     "output_type": "execute_result"
    }
   ],
   "source": [
    "min(1,2)"
   ]
  },
  {
   "cell_type": "code",
   "execution_count": 13,
   "metadata": {},
   "outputs": [
    {
     "data": {
      "text/plain": [
       "297"
      ]
     },
     "execution_count": 13,
     "metadata": {},
     "output_type": "execute_result"
    }
   ],
   "source": [
    "len(songs_split)"
   ]
  },
  {
   "cell_type": "code",
   "execution_count": null,
   "metadata": {},
   "outputs": [],
   "source": []
  }
 ],
 "metadata": {
  "kernelspec": {
   "display_name": "Python 3",
   "language": "python",
   "name": "python3"
  },
  "language_info": {
   "codemirror_mode": {
    "name": "ipython",
    "version": 3
   },
   "file_extension": ".py",
   "mimetype": "text/x-python",
   "name": "python",
   "nbconvert_exporter": "python",
   "pygments_lexer": "ipython3",
   "version": "3.6.4"
  }
 },
 "nbformat": 4,
 "nbformat_minor": 2
}
